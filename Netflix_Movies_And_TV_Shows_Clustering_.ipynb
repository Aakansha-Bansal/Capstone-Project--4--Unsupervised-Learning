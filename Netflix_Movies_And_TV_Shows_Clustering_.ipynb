{
  "nbformat": 4,
  "nbformat_minor": 0,
  "metadata": {
    "colab": {
      "private_outputs": true,
      "provenance": [],
      "collapsed_sections": [
        "vncDsAP0Gaoa",
        "FJNUwmbgGyua",
        "w6K7xa23Elo4",
        "yQaldy8SH6Dl",
        "mDgbUHAGgjLW",
        "O_i_v8NEhb9l",
        "HhfV-JJviCcP",
        "Y3lxredqlCYt",
        "3RnN4peoiCZX",
        "x71ZqKXriCWQ",
        "7hBIi_osiCS2",
        "JlHwYmJAmNHm",
        "35m5QtbWiB9F",
        "PoPl-ycgm1ru",
        "H0kj-8xxnORC",
        "nA9Y7ga8ng1Z",
        "PBTbrJXOngz2",
        "u3PMJOP6ngxN",
        "dauF4eBmngu3",
        "bKJF3rekwFvQ",
        "MSa1f5Uengrz",
        "GF8Ens_Soomf",
        "0wOQAZs5pc--",
        "K5QZ13OEpz2H",
        "lQ7QKXXCp7Bj",
        "448CDAPjqfQr",
        "KSlN3yHqYklG",
        "t6dVpIINYklI",
        "ijmpgYnKYklI",
        "-JiQyfWJYklI",
        "EM7whBJCYoAo",
        "fge-S5ZAYoAp",
        "85gYPyotYoAp",
        "RoGjAbkUYoAp",
        "4Of9eVA-YrdM",
        "iky9q4vBYrdO",
        "F6T5p64dYrdO",
        "y-Ehk30pYrdP",
        "bamQiAODYuh1",
        "QHF8YVU7Yuh3",
        "GwzvFGzlYuh3",
        "qYpmQ266Yuh3",
        "OH-pJp9IphqM",
        "bbFf2-_FphqN",
        "_ouA3fa0phqN",
        "Seke61FWphqN",
        "PIIx-8_IphqN",
        "t27r6nlMphqO",
        "r2jJGEOYphqO",
        "b0JNsNcRphqO",
        "BZR9WyysphqO",
        "jj7wYXLtphqO",
        "eZrbJ2SmphqO",
        "rFu4xreNphqO",
        "YJ55k-q6phqO",
        "gCFgpxoyphqP",
        "OVtJsKN_phqQ",
        "lssrdh5qphqQ",
        "U2RJ9gkRphqQ",
        "1M8mcRywphqQ",
        "tgIPom80phqQ",
        "JMzcOPDDphqR",
        "x-EpHcCOp1ci",
        "X_VqEhTip1ck",
        "8zGJKyg5p1ck",
        "PVzmfK_Ep1ck",
        "n3dbpmDWp1ck",
        "ylSl6qgtp1ck",
        "ZWILFDl5p1ck",
        "M7G43BXep1ck",
        "Ag9LCva-p1cl",
        "E6MkPsBcp1cl",
        "2cELzS2fp1cl",
        "3MPXvC8up1cl",
        "NC_X3p0fY2L0",
        "UV0SzAkaZNRQ",
        "YPEH6qLeZNRQ",
        "q29F0dvdveiT",
        "EXh0U9oCveiU",
        "22aHeOlLveiV",
        "g-ATYxFrGrvw",
        "Yfr_Vlr8HBkt",
        "8yEUt7NnHlrM",
        "tEA2Xm5dHt1r",
        "I79__PHVH19G",
        "Ou-I18pAyIpj",
        "fF3858GYyt-u",
        "4_0_7-oCpUZd",
        "hwyV_J3ipUZe",
        "3yB-zSqbpUZe",
        "dEUvejAfpUZe",
        "Fd15vwWVpUZf",
        "bn_IUdTipZyH",
        "49K5P_iCpZyH",
        "Nff-vKELpZyI",
        "kLW572S8pZyI",
        "dWbDXHzopZyI",
        "yLjJCtPM0KBk",
        "xiyOF9F70UgQ",
        "7wuGOrhz0itI",
        "id1riN9m0vUs",
        "578E2V7j08f6",
        "89xtkJwZ18nB",
        "67NQN5KX2AMe",
        "Iwf50b-R2tYG",
        "GMQiZwjn3iu7",
        "WVIkgGqN3qsr",
        "XkPnILGE3zoT",
        "Hlsf0x5436Go",
        "mT9DMSJo4nBL",
        "c49ITxTc407N",
        "OeJFEK0N496M",
        "9ExmJH0g5HBk",
        "cJNqERVU536h",
        "k5UmGsbsOxih",
        "T0VqWOYE6DLQ",
        "qBMux9mC6MCf",
        "-oLEiFgy-5Pf",
        "C74aWNz2AliB",
        "2DejudWSA-a0",
        "pEMng2IbBLp7",
        "rAdphbQ9Bhjc",
        "TNVZ9zx19K6k",
        "nqoHp30x9hH9",
        "rMDnDkt2B6du",
        "yiiVWRdJDDil",
        "1UUpS68QDMuG",
        "kexQrXU-DjzY",
        "T5CmagL3EC8N",
        "BhH2vgX9EjGr",
        "qjKvONjwE8ra",
        "P1XJ9OREExlT",
        "VFOzZv6IFROw",
        "TIqpNgepFxVj",
        "VfCC591jGiD4",
        "OB4l2ZhMeS1U",
        "ArJBuiUVfxKd",
        "4qY1EAkEfxKe",
        "PiV4Ypx8fxKe",
        "TfvqoZmBfxKf",
        "dJ2tPlVmpsJ0",
        "JWYfwnehpsJ1",
        "-jK_YjpMpsJ2",
        "HAih1iBOpsJ2",
        "zVGeBEFhpsJ2",
        "bmKjuQ-FpsJ3",
        "Fze-IPXLpx6K",
        "7AN1z2sKpx6M",
        "9PIHJqyupx6M",
        "_-qAgymDpx6N",
        "Z-hykwinpx6N",
        "h_CCil-SKHpo",
        "cBFFvTBNJzUa",
        "HvGl1hHyA_VK",
        "EyNgTHvd2WFk",
        "KH5McJBi2d8v",
        "iW_Lq9qf2h6X",
        "-Kee-DAl2viO",
        "gCX9965dhzqZ",
        "gIfDvo9L0UH2"
      ],
      "include_colab_link": true
    },
    "kernelspec": {
      "name": "python3",
      "display_name": "Python 3"
    },
    "language_info": {
      "name": "python"
    }
  },
  "cells": [
    {
      "cell_type": "markdown",
      "metadata": {
        "id": "view-in-github",
        "colab_type": "text"
      },
      "source": [
        "<a href=\"https://colab.research.google.com/github/Aakansha-Bansal/Capstone-Project--4--Unsupervised-Learning/blob/main/Netflix_Movies_And_TV_Shows_Clustering_.ipynb\" target=\"_parent\"><img src=\"https://colab.research.google.com/assets/colab-badge.svg\" alt=\"Open In Colab\"/></a>"
      ]
    },
    {
      "cell_type": "markdown",
      "source": [
        "# **Project Name**    - **Netflix Movies And TV Shows Clustering**\n",
        "\n"
      ],
      "metadata": {
        "id": "vncDsAP0Gaoa"
      }
    },
    {
      "cell_type": "markdown",
      "source": [
        "##### **Project Type**    - **Unsupervised**\n",
        "##### **Contribution**    - **Individual**\n"
      ],
      "metadata": {
        "id": "beRrZCGUAJYm"
      }
    },
    {
      "cell_type": "markdown",
      "source": [
        "# **Project Summary -**"
      ],
      "metadata": {
        "id": "FJNUwmbgGyua"
      }
    },
    {
      "cell_type": "markdown",
      "source": [
        "### This is an Unsupervised Machine learning project in this project I will build a model that can be capable of clustering different-different types of data. The dataset is about netflix shows which has 7787 rows and 12 columns like show_id which represents ID of the show, type represents type of the show, title represents show title, cast represents name of the casting stars, country represents the country of the show, date added represents the date when the show is added to netflix, release_year represents the year the show was released,rating represents the rating of the show, duration represents the length of the show, listed_in tells what type and where the show belongs from, description gives short descriptions about the show. My task is to read and understand the data after that I will have to show some meaningfull charts and explain everything about the chart then according to the visualization chart I will have to make some hypothesis assumptions about the project then testing the assumptions. Then I will handle missing and null values and outliers after completing these all task I will look for imbalanced data if there is any imbalanced data then I will have to deal with that. Then I will select some important features further I will split the data for test and training purpose and after doing all this I will implement the machine learning models.\n",
        "\n",
        "\n",
        "\n"
      ],
      "metadata": {
        "id": "F6v_1wHtG2nS"
      }
    },
    {
      "cell_type": "markdown",
      "source": [
        "# **GitHub Link -**"
      ],
      "metadata": {
        "id": "w6K7xa23Elo4"
      }
    },
    {
      "cell_type": "markdown",
      "source": [
        "https://github.com/Aakansha-Bansal/Capstone-Project--4--Unsupervised-Learning"
      ],
      "metadata": {
        "id": "h1o69JH3Eqqn"
      }
    },
    {
      "cell_type": "markdown",
      "source": [
        "# **Problem Statement**\n"
      ],
      "metadata": {
        "id": "yQaldy8SH6Dl"
      }
    },
    {
      "cell_type": "markdown",
      "source": [
        "### In 2018, they released an interesting report which shows that the number of TV shows on Netflix has nearly tripled since 2010. The streaming service’s number of movies has decreased by more than 2,000 titles since 2010, while its number of TV shows has nearly tripled. It will be interesting to explore what all other insights can be obtained from the same dataset. The main objective is to exploring all other insights from netflix datset and clustering similar content by matching text based feature.\n",
        "\n"
      ],
      "metadata": {
        "id": "DpeJGUA3kjGy"
      }
    },
    {
      "cell_type": "markdown",
      "source": [
        "# **General Guidelines** : -  "
      ],
      "metadata": {
        "id": "mDgbUHAGgjLW"
      }
    },
    {
      "cell_type": "markdown",
      "source": [
        "1.   Well-structured, formatted, and commented code is required. \n",
        "2.   Exception Handling, Production Grade Code & Deployment Ready Code will be a plus. Those students will be awarded some additional credits. \n",
        "     \n",
        "     The additional credits will have advantages over other students during Star Student selection.\n",
        "       \n",
        "             [ Note: - Deployment Ready Code is defined as, the whole .ipynb notebook should be executable in one go\n",
        "                       without a single error logged. ]\n",
        "\n",
        "3.   Each and every logic should have proper comments.\n",
        "4. You may add as many number of charts you want. Make Sure for each and every chart the following format should be answered.\n",
        "        \n",
        "\n",
        "```\n",
        "# Chart visualization code\n",
        "```\n",
        "            \n",
        "\n",
        "*   Why did you pick the specific chart?\n",
        "*   What is/are the insight(s) found from the chart?\n",
        "* Will the gained insights help creating a positive business impact? \n",
        "Are there any insights that lead to negative growth? Justify with specific reason.\n",
        "\n",
        "5. You have to create at least 15 logical & meaningful charts having important insights.\n",
        "\n",
        "\n",
        "[ Hints : - Do the Vizualization in  a structured way while following \"UBM\" Rule. \n",
        "\n",
        "U - Univariate Analysis,\n",
        "\n",
        "B - Bivariate Analysis (Numerical - Categorical, Numerical - Numerical, Categorical - Categorical)\n",
        "\n",
        "M - Multivariate Analysis\n",
        " ]\n",
        "\n",
        "\n",
        "\n",
        "\n",
        "\n",
        "6. You may add more ml algorithms for model creation. Make sure for each and every algorithm, the following format should be answered.\n",
        "\n",
        "\n",
        "*   Explain the ML Model used and it's performance using Evaluation metric Score Chart.\n",
        "\n",
        "\n",
        "*   Cross- Validation & Hyperparameter Tuning\n",
        "\n",
        "*   Have you seen any improvement? Note down the improvement with updates Evaluation metric Score Chart.\n",
        "\n",
        "*   Explain each evaluation metric's indication towards business and the business impact pf the ML model used.\n",
        "\n",
        "\n",
        "\n",
        "\n",
        "\n",
        "\n",
        "\n",
        "\n",
        "\n",
        "\n",
        "\n",
        "\n",
        "\n",
        "\n",
        "\n",
        "\n",
        "\n",
        "\n"
      ],
      "metadata": {
        "id": "ZrxVaUj-hHfC"
      }
    },
    {
      "cell_type": "markdown",
      "source": [
        "# ***Let's Begin !***"
      ],
      "metadata": {
        "id": "O_i_v8NEhb9l"
      }
    },
    {
      "cell_type": "markdown",
      "source": [
        "## ***1. Know Your Data***"
      ],
      "metadata": {
        "id": "HhfV-JJviCcP"
      }
    },
    {
      "cell_type": "markdown",
      "source": [
        "### Import Libraries"
      ],
      "metadata": {
        "id": "Y3lxredqlCYt"
      }
    },
    {
      "cell_type": "code",
      "source": [
        "# Import Libraries\n",
        "import numpy as np\n",
        "from numpy import math\n",
        "import pandas as pd\n",
        "import seaborn as sns\n",
        "import matplotlib.pyplot as plt\n",
        "from sklearn.model_selection import train_test_split, KFold\n",
        "from nltk.stem.snowball import SnowballStemmer\n",
        "from google.colab import drive\n",
        "import string\n",
        "import nltk\n",
        "from nltk.corpus import stopwords\n",
        "from sklearn.feature_extraction.text import CountVectorizer\n",
        "from sklearn.feature_extraction.text import TfidfVectorizer\n",
        "from sklearn.cluster import KMeans,AgglomerativeClustering,DBSCAN\n",
        "from yellowbrick.cluster import KElbowVisualizer\n",
        "from sklearn.decomposition import LatentDirichletAllocation\n",
        "from sklearn.decomposition import PCA\n",
        "import scipy.cluster.hierarchy as sch\n",
        "from sklearn import metrics\n",
        "from sklearn.model_selection import GridSearchCV\n",
        "from sklearn.metrics import silhouette_samples,silhouette_score\n",
        "\n",
        "import warnings\n",
        "warnings.filterwarnings('ignore')"
      ],
      "metadata": {
        "id": "M8Vqi-pPk-HR"
      },
      "execution_count": null,
      "outputs": []
    },
    {
      "cell_type": "code",
      "source": [
        "from google.colab import drive\n",
        "drive.mount('/content/drive')"
      ],
      "metadata": {
        "id": "SPP21nhRbjXz"
      },
      "execution_count": null,
      "outputs": []
    },
    {
      "cell_type": "markdown",
      "source": [
        "### Dataset Loading"
      ],
      "metadata": {
        "id": "3RnN4peoiCZX"
      }
    },
    {
      "cell_type": "code",
      "source": [
        "# Load Dataset\n",
        "netflix_df=pd.read_csv('/content/drive/MyDrive/NETFLIX MOVIES AND TV SHOWS CLUSTERING.csv')"
      ],
      "metadata": {
        "id": "4CkvbW_SlZ_R"
      },
      "execution_count": null,
      "outputs": []
    },
    {
      "cell_type": "markdown",
      "source": [
        "### Dataset First View"
      ],
      "metadata": {
        "id": "x71ZqKXriCWQ"
      }
    },
    {
      "cell_type": "code",
      "source": [
        "# Dataset First Look\n",
        "netflix_df"
      ],
      "metadata": {
        "id": "LWNFOSvLl09H"
      },
      "execution_count": null,
      "outputs": []
    },
    {
      "cell_type": "code",
      "source": [
        "netflix_df.head()"
      ],
      "metadata": {
        "id": "D-GflSVHdFjk"
      },
      "execution_count": null,
      "outputs": []
    },
    {
      "cell_type": "markdown",
      "source": [
        "### Dataset Rows & Columns count"
      ],
      "metadata": {
        "id": "7hBIi_osiCS2"
      }
    },
    {
      "cell_type": "code",
      "source": [
        "# Dataset Rows & Columns count\n",
        "netflix_df.shape"
      ],
      "metadata": {
        "id": "Kllu7SJgmLij"
      },
      "execution_count": null,
      "outputs": []
    },
    {
      "cell_type": "markdown",
      "source": [
        "### Dataset Information"
      ],
      "metadata": {
        "id": "JlHwYmJAmNHm"
      }
    },
    {
      "cell_type": "code",
      "source": [
        "# Dataset Info\n",
        "netflix_df.info()"
      ],
      "metadata": {
        "id": "e9hRXRi6meOf"
      },
      "execution_count": null,
      "outputs": []
    },
    {
      "cell_type": "markdown",
      "source": [
        "#### Duplicate Values"
      ],
      "metadata": {
        "id": "35m5QtbWiB9F"
      }
    },
    {
      "cell_type": "code",
      "source": [
        "# Dataset Duplicate Value Count\n",
        "len(netflix_df[netflix_df.duplicated()])"
      ],
      "metadata": {
        "id": "1sLdpKYkmox0"
      },
      "execution_count": null,
      "outputs": []
    },
    {
      "cell_type": "markdown",
      "source": [
        "#### Missing Values/Null Values"
      ],
      "metadata": {
        "id": "PoPl-ycgm1ru"
      }
    },
    {
      "cell_type": "code",
      "source": [
        "# Missing Values/Null Values Count\n",
        "netflix_df.isnull().sum()"
      ],
      "metadata": {
        "id": "GgHWkxvamxVg"
      },
      "execution_count": null,
      "outputs": []
    },
    {
      "cell_type": "code",
      "source": [
        "# Missing Values/Null Values Count - Function for calculating null values\n",
        "def nullCalculator(df):\n",
        "  ''' Takes dataset and returns a dataset which shows null value counts and percentage. '''\n",
        "  df_null = df.isna().sum().reset_index()\n",
        "  df_null['null_%'] = round((df.isna().sum()/len(df))*100,2).reset_index()[0]\n",
        "  df_null.rename(columns={'index':'variables',0:'null'},inplace=True)\n",
        "  return df_null\n",
        "\n",
        "# Show null values\n",
        "nullCalculator(netflix_df)"
      ],
      "metadata": {
        "id": "_5E2IqM27CHr"
      },
      "execution_count": null,
      "outputs": []
    },
    {
      "cell_type": "code",
      "source": [
        "# Visualizing the missing values\n",
        "plt.rcParams['figure.figsize'] = (12,7)\n",
        "netflix_df.isna().sum().plot.bar()\n",
        "plt.title('Null value counts')\n",
        "plt.xlabel('Columns')\n",
        "plt.ylabel('Count')\n",
        "plt.show()\n",
        "print('')\n",
        "# Heatmap\n",
        "sns.heatmap(netflix_df.isna(),cmap='coolwarm')\n",
        "plt.title('Null value counts')\n",
        "plt.xlabel('Columns')\n",
        "plt.show()"
      ],
      "metadata": {
        "id": "3q5wnI3om9sJ"
      },
      "execution_count": null,
      "outputs": []
    },
    {
      "cell_type": "markdown",
      "source": [
        "### What did you know about your dataset?"
      ],
      "metadata": {
        "id": "H0kj-8xxnORC"
      }
    },
    {
      "cell_type": "markdown",
      "source": [
        "### The dataset has 7787 rows and 12 columns in which the column director has 2389, cast has 718, country has 507, date_added has 10 and rating has 7 null values."
      ],
      "metadata": {
        "id": "gfoNAAC-nUe_"
      }
    },
    {
      "cell_type": "markdown",
      "source": [
        "## ***2. Understanding Your Variables***"
      ],
      "metadata": {
        "id": "nA9Y7ga8ng1Z"
      }
    },
    {
      "cell_type": "code",
      "source": [
        "# Dataset Columns\n",
        "netflix_df.columns"
      ],
      "metadata": {
        "id": "j7xfkqrt5Ag5"
      },
      "execution_count": null,
      "outputs": []
    },
    {
      "cell_type": "code",
      "source": [
        "# Dataset Describe\n",
        "netflix_df.describe(include='all')"
      ],
      "metadata": {
        "id": "DnOaZdaE5Q5t"
      },
      "execution_count": null,
      "outputs": []
    },
    {
      "cell_type": "markdown",
      "source": [
        "### Variables Description "
      ],
      "metadata": {
        "id": "PBTbrJXOngz2"
      }
    },
    {
      "cell_type": "markdown",
      "source": [
        "\n",
        "### Show_id : show ID\n",
        "### type : Type of the show like movie or TV show\n",
        "### title : Title of the show\n",
        "### director : Director of the show\n",
        "### cast : Actors and actress of the show\n",
        "### country : Country of the origin of the show\n",
        "### date_added : Date when the show added to netflix\n",
        "### release_year : Release year\n",
        "### rating : rating\n",
        "### duration : duration of the show\n",
        "### listed_in : Listed in\n",
        "### description : Description of the show"
      ],
      "metadata": {
        "id": "aJV4KIxSnxay"
      }
    },
    {
      "cell_type": "markdown",
      "source": [
        "### Check Unique Values for each variable."
      ],
      "metadata": {
        "id": "u3PMJOP6ngxN"
      }
    },
    {
      "cell_type": "code",
      "source": [
        "# Check Unique Values for each variable.\n",
        "netflix_df.nunique()"
      ],
      "metadata": {
        "id": "zms12Yq5n-jE"
      },
      "execution_count": null,
      "outputs": []
    },
    {
      "cell_type": "code",
      "source": [
        "# Unique values for each variable\n",
        "for col in netflix_df.columns:\n",
        "  print('Unique values for ',col,'are \\n',netflix_df[col].unique(),'\\n')"
      ],
      "metadata": {
        "id": "Mtp3lytPyWgo"
      },
      "execution_count": null,
      "outputs": []
    },
    {
      "cell_type": "markdown",
      "source": [
        "## 3. ***Data Wrangling***"
      ],
      "metadata": {
        "id": "dauF4eBmngu3"
      }
    },
    {
      "cell_type": "markdown",
      "source": [
        "### Data Wrangling Code"
      ],
      "metadata": {
        "id": "bKJF3rekwFvQ"
      }
    },
    {
      "cell_type": "code",
      "source": [
        "# Write your code to make your dataset analysis ready.\n",
        "class NetflixWrangling:\n",
        "    # Init function\n",
        "    def __init__(self,df):\n",
        "      ''' init method '''\n",
        "      try:\n",
        "          self.df = df.copy()\n",
        "          self.df['duration_value'] = self.df['duration'].apply(self.set_duration_value)\n",
        "          self.df['duration_unit'] = self.df['duration'].apply(self.set_duration_unit)\n",
        "          self.cast_ = self.get_cast_or_listed_in('cast')\n",
        "          self.genres_ = self.get_cast_or_listed_in('listed_in')\n",
        "          self.directors_ = self.getTopValues('director')\n",
        "          self.countries_ = self.getTopValues('country')\n",
        "          self.release_years_ = self.getTopValues('release_year')\n",
        "          self.ratings_ = self.getTopValues('rating')\n",
        "          self.df['duration_value'] = self.df['duration_value'].apply(lambda x:int(x))\n",
        "            \n",
        "      except:\n",
        "          print('Invalid input!')\n",
        "    # Function to get dataset\n",
        "    def get_df(self):\n",
        "      ''' Function returns dataframe '''\n",
        "      return self.df\n",
        "    # Function to get movies dataset\n",
        "    def getMovies(self):\n",
        "      ''' Function returns returns dataframe which contains data of movies '''\n",
        "      return self.df[self.df['type'] == 'Movie']\n",
        "    # Function to get TV Show's dataset\n",
        "    def getTvShows(self):\n",
        "      ''' Function returns dataframe which contains data of tv shows '''\n",
        "      return self.df[self.df['type'] == 'TV Show']\n",
        "    # Function to get top values\n",
        "    def getTopValues(self,col):\n",
        "      ''' Function returns top values for the given column '''\n",
        "      try:\n",
        "          return self.df[col].value_counts().sort_values(ascending=False)\n",
        "      except:\n",
        "          return 'You have entered invalid column!'\n",
        "    # Function to set duration value\n",
        "    def set_duration_value(self,string):\n",
        "      ''' Function for setting duration values '''\n",
        "      if string[-7:] == 'Seasons':\n",
        "        return string[:-8]\n",
        "      elif string[-6:] == 'Season':\n",
        "        return string[:-7]\n",
        "      else:\n",
        "        return string[:-4]\n",
        "    \n",
        "    # Function to set duration unit\n",
        "    def set_duration_unit(self,duration):\n",
        "      ''' function for setting duration unit. '''\n",
        "      if (duration[-7:] == 'Seasons') | (duration[-6:] == 'Season'):\n",
        "        return 'season'\n",
        "      else:\n",
        "        return 'min'\n",
        "    \n",
        "    # Function to get cast or genres\n",
        "    def get_cast_or_listed_in(self,col):   \n",
        "        df = self.df.copy()\n",
        "        # internal function 1\n",
        "        def __get_list():\n",
        "            '''\n",
        "            takes dataset and column's name, returns list.\n",
        "            '''\n",
        "            list_1=[]\n",
        "            for i in df[df[col].isna()== False][col]:\n",
        "                list_1.append(i.split(', '))\n",
        "            return list_1\n",
        "          # internal function 2\n",
        "        def __get_list_vars(list_1):\n",
        "            list_2 = []\n",
        "            for i in list_1:\n",
        "              for j in i:\n",
        "                list_2.append(j)\n",
        "            return list_2\n",
        "\n",
        "          # internal function 3\n",
        "        def __get_dict_vars(list_2):\n",
        "            unique_var = set(list_2)\n",
        "            dict_of_vars = dict()\n",
        "            for i in unique_var:\n",
        "              dict_of_vars[i] = list_2.count(i)\n",
        "            return dict_of_vars\n",
        "        # Assigning values in list 1 and list 2 then returning the series\n",
        "        list_1 = __get_list()\n",
        "        list_2 = __get_list_vars(list_1)        \n",
        "        return pd.Series(__get_dict_vars(list_2)).sort_values(ascending=False)\n",
        "    \n",
        "    \n",
        "    # Function for converting duration_value into int type\n",
        "    def convertInt(self,col):\n",
        "      ''' Function to convert other type into integer '''\n",
        "      return int(col)\n",
        "    \n",
        "    # Get showsPerMonth\n",
        "    def getShowsPerMonth(self,typ='all'):\n",
        "      ''' Function which returns Shows per month '''\n",
        "      df = pd.DataFrame()\n",
        "      if typ == 'tv':\n",
        "          df = self.getTvShows()\n",
        "      elif typ == 'movie':\n",
        "          df = self.getMovies()\n",
        "      else:\n",
        "          df = self.df.copy()\n",
        "      df = df[df['date_added'].isna() == False]\n",
        "      df['added_month'] = df['date_added'].apply(lambda x:x.split()[0])\n",
        "      monthly_shows = df['added_month'].value_counts()\n",
        "      return monthly_shows\n",
        "\n",
        "    # Get Text Length\n",
        "    def getTextLength(self,text):\n",
        "      return len(text)\n",
        "    # Get Dataframe with length column\n",
        "    def getDfWithLength(self,col):\n",
        "      df = self.df.copy()\n",
        "      df['text_length'] = df[col].apply(self.getTextLength)\n",
        "      return df\n",
        "    \n",
        "# Initializing the object\n",
        "netflixWrangling = NetflixWrangling(netflix_df)"
      ],
      "metadata": {
        "id": "wk-9a2fpoLcV"
      },
      "execution_count": null,
      "outputs": []
    },
    {
      "cell_type": "code",
      "source": [
        "# Printing the shapes for each type of shows\n",
        "print('Data for Movies has shape :',netflixWrangling.getMovies().shape)\n",
        "print('')\n",
        "print('Data for TV shows has shape :',netflixWrangling.getTvShows().shape)\n",
        "print('')"
      ],
      "metadata": {
        "id": "aFVr9N4agqM4"
      },
      "execution_count": null,
      "outputs": []
    },
    {
      "cell_type": "code",
      "source": [
        "# Total length for each type of durations\n",
        "netflixWrangling.get_df().groupby(['duration_unit'])['duration_value'].sum()"
      ],
      "metadata": {
        "id": "ZObVbYmTgu_o"
      },
      "execution_count": null,
      "outputs": []
    },
    {
      "cell_type": "code",
      "source": [
        "# Total number of Shows for each month\n",
        "print('Total number of Shows for each month')\n",
        "netflixWrangling.getShowsPerMonth()"
      ],
      "metadata": {
        "id": "Qz1QIWuzg2dU"
      },
      "execution_count": null,
      "outputs": []
    },
    {
      "cell_type": "code",
      "source": [
        "# Total number of Movies for each month\n",
        "print('Total number of Movies for each month')\n",
        "netflixWrangling.getShowsPerMonth('movie')"
      ],
      "metadata": {
        "id": "XP70TRGfg3a-"
      },
      "execution_count": null,
      "outputs": []
    },
    {
      "cell_type": "code",
      "source": [
        "# Total number of TV Shows for each month\n",
        "print('Total number of TV Shows for each month')\n",
        "netflixWrangling.getShowsPerMonth('tv')"
      ],
      "metadata": {
        "id": "9dUDOymng9vE"
      },
      "execution_count": null,
      "outputs": []
    },
    {
      "cell_type": "code",
      "source": [
        "# Assigning top 10 actors and genres to a variable\n",
        "print('Top 5 actors with highest number of shows :')\n",
        "netflixWrangling.cast_.head()"
      ],
      "metadata": {
        "id": "SH5-bTFQhI21"
      },
      "execution_count": null,
      "outputs": []
    },
    {
      "cell_type": "code",
      "source": [
        "# Top 5 directors with highest number of shows\n",
        "print('Top 5 directors with highest number of shows :')\n",
        "netflixWrangling.directors_.head()"
      ],
      "metadata": {
        "id": "DlfYahc_hOX-"
      },
      "execution_count": null,
      "outputs": []
    },
    {
      "cell_type": "code",
      "source": [
        "# Top 5 countries with highest number of shows\n",
        "print('Top 5 countries with highest number of shows :')\n",
        "netflixWrangling.countries_.head()"
      ],
      "metadata": {
        "id": "JpldBBgBhPpW"
      },
      "execution_count": null,
      "outputs": []
    },
    {
      "cell_type": "code",
      "source": [
        "# Top 5 years with highest number of shows released\n",
        "print('Top 5 years with highest number of shows released:')\n",
        "netflixWrangling.release_years_.head()"
      ],
      "metadata": {
        "id": "R5B7JGE2hVGQ"
      },
      "execution_count": null,
      "outputs": []
    },
    {
      "cell_type": "code",
      "source": [
        "# Top ratings with highest number of shows\n",
        "print('Top ratings with highest number of shows :')\n",
        "netflixWrangling.ratings_"
      ],
      "metadata": {
        "id": "XV-F7gJPhY0B"
      },
      "execution_count": null,
      "outputs": []
    },
    {
      "cell_type": "code",
      "source": [
        "# Top 5 Genres with highest number of Movies/TV Shows\n",
        "print('Top 5 Genres with highest number of Movies/TV Shows')\n",
        "netflixWrangling.genres_.head()"
      ],
      "metadata": {
        "id": "_b1yhcpMhdyB"
      },
      "execution_count": null,
      "outputs": []
    },
    {
      "cell_type": "code",
      "source": [
        "# Top 10 directors with highest length of descriptions\n",
        "print('Top 10 Directors with highest length of descriptions')\n",
        "netflixWrangling.getDfWithLength('description').groupby('director')['text_length'].mean().sort_values(ascending=False).reset_index().head(10)"
      ],
      "metadata": {
        "id": "fz6I__Ulhh7y"
      },
      "execution_count": null,
      "outputs": []
    },
    {
      "cell_type": "markdown",
      "source": [
        "### What all manipulations have you done and insights you found?"
      ],
      "metadata": {
        "id": "MSa1f5Uengrz"
      }
    },
    {
      "cell_type": "markdown",
      "source": [
        "### First of I assigned all movies' data to a variable and TV shows' data to another variable and made a class which is responsible of extracting data from string and also made 2 functions for getting duration values and units.\n",
        "\n",
        "\n",
        "2. Directors with highest number of movies/tv shows are Raúl Campos and Jan Suter : 18\n",
        "\n",
        "3. Top 5 countries produced highest number of movies are :\n",
        "\n",
        "United States : 2555\n",
        "India : 923\n",
        "United Kingdom : 397\n",
        "Japan : 226\n",
        "South Korea : 183\n",
        "\n",
        "\n",
        "4. Highest movies produced in year 2018 : 1121\n",
        "\n",
        "5. Rating for highest number of movie is TV-MA : 2863\n",
        "\n",
        "6. Top 5 actors with highest number of movies are :\n",
        "\n",
        "\n",
        "Anupam Kher : 42\n",
        "Shah Rukh Khan : 35\n",
        "Naseeruddin Shah : 30\n",
        "Om Puri : 30\n",
        "Akshay Kumar : 29\n",
        "\n",
        "\n",
        "7. Top genres with highest number of movies are :\n",
        "\n",
        "International Movies : 2437\n",
        "Dramas : 2106\n",
        "\n",
        "\n",
        "8. Total Seasons : 4280 and Total Minutes : 533979.\n",
        "\n",
        "9. Number of TV Shows/Movies for each month\n",
        "\n",
        "December : 833\n",
        "October : 785\n",
        "January : 757\n",
        "November : 738\n",
        "March : 669\n",
        "September : 619\n",
        "August : 618\n",
        "April : 601\n",
        "July : 600\n",
        "May : 543\n",
        "June : 542\n",
        "February : 472"
      ],
      "metadata": {
        "id": "LbyXE7I1olp8"
      }
    },
    {
      "cell_type": "markdown",
      "source": [
        "## ***4. Data Vizualization, Storytelling & Experimenting with charts : Understand the relationships between variables***"
      ],
      "metadata": {
        "id": "GF8Ens_Soomf"
      }
    },
    {
      "cell_type": "code",
      "source": [
        "# Class for visualization\n",
        "class NetflixVisualization(NetflixWrangling):\n",
        "    bar_colors = ['violet','indigo','blue','g','yellow','orange','r']\n",
        "    # Init method\n",
        "    def __init__(self,df):\n",
        "      ''' Init method '''\n",
        "      self.df = df\n",
        "      self.df_tv = df[df['type'] == 'Tv_shows']\n",
        "\n",
        "    # Bar chart for value counts\n",
        "    def countBar(self,col,typ='default',top=10):\n",
        "      ''' Function to display top most values for a given column'''\n",
        "      try:\n",
        "        if typ == 'tv':\n",
        "          df = self.getTvShows()\n",
        "        elif typ == 'movie':\n",
        "          df = self.getMovies()\n",
        "        else:\n",
        "          df = self.df.copy()\n",
        "        df[col].value_counts().sort_values(ascending=False)[:top].plot.bar(color=self.bar_colors,figsize=(15,5))\n",
        "        plt.title('Number of shows for top '+str(top)+\" \"+col)\n",
        "        plt.xlabel(col)\n",
        "        plt.ylabel('counts')\n",
        "        plt.show()\n",
        "      except:\n",
        "        print('Invalid Input...')\n",
        "\n",
        "    # Barh chart for value counts\n",
        "    def countBarh(self,col,typ='default',top=10):\n",
        "      ''' Function to display top most values for a given column '''\n",
        "      try:\n",
        "        if typ == 'tv':\n",
        "          df = self.getTvShows()\n",
        "        elif typ == 'movie':\n",
        "          df = self.getMovies()\n",
        "        else:\n",
        "          df = self.df.copy()\n",
        "        df[col].value_counts().sort_values(ascending=False)[:top].plot.barh(color=self.bar_colors,figsize=(13,5))\n",
        "        plt.title('Number of shows for top '+str(top)+\" \"+col)\n",
        "        plt.xlabel('counts')\n",
        "        plt.ylabel(col)\n",
        "        plt.show()\n",
        "      except:\n",
        "        print('Invalid Input...')\n",
        "    \n",
        "    # Chart 1 - Function shows contents counts for each type\n",
        "    def chart_1(self):\n",
        "      ''' Function shows contents counts for each type  '''\n",
        "      self.df['type'].value_counts().plot.pie(figsize=(7,7),\n",
        "                                                  colors={'cyan','coral'},\n",
        "                                                  shadow=True,explode=[0.03,0.03],\n",
        "                                                  autopct='%0.01f%%')\n",
        "      plt.show()\n",
        "        \n",
        "    # Chart 2 - Bar chart shows top countries with highest number of shows\n",
        "    def chart_2(self,typ='default',top=10):\n",
        "      ''' Function shows top countries with highest number of shows '''\n",
        "      self.countBar('country',typ,top)\n",
        "        \n",
        "        \n",
        "    # Chart 3 - Bar chart,directors for TV shows\n",
        "    def chart_3(self,typ='default',top=10):\n",
        "      ''' Function shows top directors with highest number of shows '''\n",
        "      self.countBar('director',typ,top)\n",
        "\n",
        "        \n",
        "    # chart 4 - Function shows top release with highest number of shows\n",
        "    def chart_4(self,typ='default',top=10):\n",
        "      ''' Function shows top release year with highest number of shows '''\n",
        "      self.countBar('release_year',typ,top)\n",
        "\n",
        "        \n",
        "    # Chart 5 - shows top ratings with highest number of shows\n",
        "    def chart_5(self,typ='default',top=10):\n",
        "      ''' Function shows top ratings with highest number of shows '''\n",
        "      if typ == 'movie':\n",
        "        plt.xticks(np.arange(0,1851,100))\n",
        "        self.countBarh('rating',typ,top)\n",
        "      else:\n",
        "        plt.yticks(np.arange(0,1201,100))\n",
        "        self.countBar('rating',typ,top)\n",
        "\n",
        "        \n",
        "    # Chart 6- shows top listed in with highest number of shows\n",
        "    def chart_6(self,typ='default',top=10):\n",
        "      ''' Function shows top listed_in with highest number of shows '''\n",
        "      plt.xticks(np.arange(0,400,10))\n",
        "      self.countBarh('listed_in',typ,top)\n",
        "    # Method to get top  values for the given column\n",
        "    def getTopBarh(self,col):\n",
        "      ''' Function shows top 5 values for a given column '''\n",
        "      x = self.get_cast_or_listed_in(col).head()\n",
        "      x.plot.barh(color= self.bar_colors)\n",
        "      plt.title('Top 5 '+col)\n",
        "      plt.xlabel('count of movies/tv shows')\n",
        "      plt.ylabel(col)\n",
        "      plt.show()\n",
        "        \n",
        "# Initializing the object\n",
        "netflixVisualization = NetflixVisualization(netflix_df)"
      ],
      "metadata": {
        "id": "YnYXHxCRh2Pz"
      },
      "execution_count": null,
      "outputs": []
    },
    {
      "cell_type": "markdown",
      "source": [
        "#### Chart - 1"
      ],
      "metadata": {
        "id": "0wOQAZs5pc--"
      }
    },
    {
      "cell_type": "code",
      "source": [
        "# Chart - 1 visualization code\n",
        "netflixVisualization.chart_1()"
      ],
      "metadata": {
        "id": "7v_ESjsspbW7"
      },
      "execution_count": null,
      "outputs": []
    },
    {
      "cell_type": "markdown",
      "source": [
        "##### 1. Why did you pick the specific chart?"
      ],
      "metadata": {
        "id": "K5QZ13OEpz2H"
      }
    },
    {
      "cell_type": "markdown",
      "source": [
        "### Pie chart expresses part to whole relationship with the data so I picked this chart to see percentage of TV shows and movies the in dataset.\n"
      ],
      "metadata": {
        "id": "XESiWehPqBRc"
      }
    },
    {
      "cell_type": "markdown",
      "source": [
        "##### 2. What is/are the insight(s) found from the chart?"
      ],
      "metadata": {
        "id": "lQ7QKXXCp7Bj"
      }
    },
    {
      "cell_type": "markdown",
      "source": [
        "### I found that there are 69.1% movies and 30.9% TV Shows in the dataset."
      ],
      "metadata": {
        "id": "C_j1G7yiqdRP"
      }
    },
    {
      "cell_type": "markdown",
      "source": [
        "##### 3. Will the gained insights help creating a positive business impact? \n",
        "Are there any insights that lead to negative growth? Justify with specific reason."
      ],
      "metadata": {
        "id": "448CDAPjqfQr"
      }
    },
    {
      "cell_type": "markdown",
      "source": [
        "### Yes, percentage of movies are more the double of TV Shows. In movie industries competition is more than double.\n",
        "\n"
      ],
      "metadata": {
        "id": "3cspy4FjqxJW"
      }
    },
    {
      "cell_type": "markdown",
      "source": [
        "#### Chart - 2"
      ],
      "metadata": {
        "id": "KSlN3yHqYklG"
      }
    },
    {
      "cell_type": "code",
      "source": [
        "# Chart - 2 visualization code\n",
        "netflixVisualization.chart_2()"
      ],
      "metadata": {
        "id": "R4YgtaqtYklH"
      },
      "execution_count": null,
      "outputs": []
    },
    {
      "cell_type": "markdown",
      "source": [
        "##### 1. Why did you pick the specific chart?"
      ],
      "metadata": {
        "id": "t6dVpIINYklI"
      }
    },
    {
      "cell_type": "markdown",
      "source": [
        "### A bar chart show value counts or frequency of the data for different columns and I picked this chart to see which are top 10 countries producing highest number of movies/tv shows."
      ],
      "metadata": {
        "id": "5aaW0BYyYklI"
      }
    },
    {
      "cell_type": "markdown",
      "source": [
        "##### 2. What is/are the insight(s) found from the chart?"
      ],
      "metadata": {
        "id": "ijmpgYnKYklI"
      }
    },
    {
      "cell_type": "markdown",
      "source": [
        "### I found that United State is producing highest number of movies that is more than 2500 movies followed by India is 2nd highest about 1000 movies after that United Kingdom producting about 500 movies/TV shows."
      ],
      "metadata": {
        "id": "PSx9atu2YklI"
      }
    },
    {
      "cell_type": "markdown",
      "source": [
        "##### 3. Will the gained insights help creating a positive business impact? \n",
        "Are there any insights that lead to negative growth? Justify with specific reason."
      ],
      "metadata": {
        "id": "-JiQyfWJYklI"
      }
    },
    {
      "cell_type": "markdown",
      "source": [
        "### Yes, most of the movies are producing in USA and India they can sell good movies in competitive price to netflix."
      ],
      "metadata": {
        "id": "BcBbebzrYklV"
      }
    },
    {
      "cell_type": "markdown",
      "source": [
        "#### Chart - 3"
      ],
      "metadata": {
        "id": "EM7whBJCYoAo"
      }
    },
    {
      "cell_type": "code",
      "source": [
        "# Chart - 3 visualization code\n",
        "# Chart - 3 visualization code - TV  Shows - Top 10 directors with highest number of TV shows\n",
        "netflixVisualization.chart_3('tv')"
      ],
      "metadata": {
        "id": "t6GMdE67YoAp"
      },
      "execution_count": null,
      "outputs": []
    },
    {
      "cell_type": "code",
      "source": [
        "# Top 10 directors with highest number of Movies\n",
        "netflixVisualization.chart_3('movie')"
      ],
      "metadata": {
        "id": "AP4qZ0uIjfeX"
      },
      "execution_count": null,
      "outputs": []
    },
    {
      "cell_type": "markdown",
      "source": [
        "##### 1. Why did you pick the specific chart?"
      ],
      "metadata": {
        "id": "fge-S5ZAYoAp"
      }
    },
    {
      "cell_type": "markdown",
      "source": [
        "### A bar chart shows value counts and frequency of the data for each columns and I picked this chart to see top directors with highest number of TV shows and Movies."
      ],
      "metadata": {
        "id": "5dBItgRVYoAp"
      }
    },
    {
      "cell_type": "markdown",
      "source": [
        "##### 2. What is/are the insight(s) found from the chart?"
      ],
      "metadata": {
        "id": "85gYPyotYoAp"
      }
    },
    {
      "cell_type": "markdown",
      "source": [
        "### Top 10 Directors for TV Shows.\n",
        "\n",
        "Alastair Fothergill : 3 TV shows.\n",
        "\n",
        "Ken Burns : 2 TV Shows.\n",
        "\n",
        "Shin Won-ho : 2 TV Shows.\n",
        "\n",
        "Iginio Straffi : 2 TV Shows.\n",
        "\n",
        "Rob Seidenglanz : 2 TV Shows.\n",
        "\n",
        "Stan Lathan : 2 TV Shows.\n",
        "\n",
        "Rest of them produced only 1 TV show.\n",
        "\n",
        "### Top 10 Directors for Movies.\n",
        "\n",
        "Raúl Campos and Jan Suter : 18 movies.\n",
        "\n",
        "Marcus Raboy : 15 movies.\n",
        "\n",
        "Jay Karas : 14 movies.\n",
        "\n",
        "Cathy Garcia-Molina : 13 movies.\n",
        "\n",
        "Youssef Chahine : 12 movies.\n",
        "\n",
        "Jay Chapman : 12 Movies.\n",
        "\n",
        "Martin Scorsese : 12 Movies.\n",
        "\n",
        "Steven Spielberg : 10 Movies.\n",
        "\n",
        "David Dhawan : 9 Movies.\n",
        "\n",
        "Johnnie To : 8"
      ],
      "metadata": {
        "id": "4jstXR6OYoAp"
      }
    },
    {
      "cell_type": "markdown",
      "source": [
        "##### 3. Will the gained insights help creating a positive business impact? \n",
        "Are there any insights that lead to negative growth? Justify with specific reason."
      ],
      "metadata": {
        "id": "RoGjAbkUYoAp"
      }
    },
    {
      "cell_type": "markdown",
      "source": [
        "### Maximum 3 TV Shows are produced by 1 director in other side maximum number of movies are 18 that is 6 times greater than TV shows. Movies are more in demand than TV shows becacuse most of the movies shows the ending part quickly and on other hand it takes much time to finish the TV shows completely."
      ],
      "metadata": {
        "id": "zfJ8IqMcYoAp"
      }
    },
    {
      "cell_type": "markdown",
      "source": [
        "#### Chart - 4"
      ],
      "metadata": {
        "id": "4Of9eVA-YrdM"
      }
    },
    {
      "cell_type": "code",
      "source": [
        "# Chart - 4 visualization code\n",
        "# Chart - 4 - Top 5 release year with highest number of Movies\n",
        "netflixVisualization.chart_4('movie',top=5)"
      ],
      "metadata": {
        "id": "irlUoxc8YrdO"
      },
      "execution_count": null,
      "outputs": []
    },
    {
      "cell_type": "code",
      "source": [
        "# Chart - 4 - Top 5 release year with highest number of TV shows\n",
        "netflixVisualization.chart_4('tv',top=5)"
      ],
      "metadata": {
        "id": "H5gFJMdokQHX"
      },
      "execution_count": null,
      "outputs": []
    },
    {
      "cell_type": "markdown",
      "source": [
        "##### 1. Why did you pick the specific chart?"
      ],
      "metadata": {
        "id": "iky9q4vBYrdO"
      }
    },
    {
      "cell_type": "markdown",
      "source": [
        "### A bar chart shows value counts and frequency of the data for each columns and I picked this chart to see number of shows for each year.\n",
        "\n"
      ],
      "metadata": {
        "id": "aJRCwT6DYrdO"
      }
    },
    {
      "cell_type": "markdown",
      "source": [
        "##### 2. What is/are the insight(s) found from the chart?"
      ],
      "metadata": {
        "id": "F6T5p64dYrdO"
      }
    },
    {
      "cell_type": "markdown",
      "source": [
        "### Number of Movies released in each year:\n",
        "\n",
        "2017 : 744\n",
        "\n",
        "2018 : 734\n",
        "\n",
        "2016 : 642\n",
        "\n",
        "2019 : 582\n",
        "\n",
        "2020 : 411\n",
        "\n",
        "### Number of TV Shows released in each year:\n",
        "\n",
        "2020 : 457\n",
        "\n",
        "2019 : 414\n",
        "\n",
        "2018 : 387\n",
        "\n",
        "2017 : 268\n",
        "\n",
        "2016 : 240"
      ],
      "metadata": {
        "id": "Xx8WAJvtYrdO"
      }
    },
    {
      "cell_type": "markdown",
      "source": [
        "##### 3. Will the gained insights help creating a positive business impact? \n",
        "Are there any insights that lead to negative growth? Justify with specific reason."
      ],
      "metadata": {
        "id": "y-Ehk30pYrdP"
      }
    },
    {
      "cell_type": "markdown",
      "source": [
        "### Highest number of movies released in the year 2017 and TV shows in 2020. The reason behind this is that TV shows are relatively small and movies takes much time when shooting. Since they shoots TV shows easily in advance therefore the number of TV Shows are higher in 2020 and movies are less because of corona virus."
      ],
      "metadata": {
        "id": "jLNxxz7MYrdP"
      }
    },
    {
      "cell_type": "markdown",
      "source": [
        "#### Chart - 5"
      ],
      "metadata": {
        "id": "bamQiAODYuh1"
      }
    },
    {
      "cell_type": "code",
      "source": [
        "# Chart - 5 visualization code\n",
        "# Chart - 5 visualization code - Top 5 rating with highest number of Movies\n",
        "netflixVisualization.chart_5('movie',top=5)"
      ],
      "metadata": {
        "id": "TIJwrbroYuh3"
      },
      "execution_count": null,
      "outputs": []
    },
    {
      "cell_type": "code",
      "source": [
        "# Top 5 rating with highest number of TV Shows\n",
        "netflixVisualization.chart_5('tv',top=5)"
      ],
      "metadata": {
        "id": "1h7A2g4dk3LE"
      },
      "execution_count": null,
      "outputs": []
    },
    {
      "cell_type": "markdown",
      "source": [
        "##### 1. Why did you pick the specific chart?"
      ],
      "metadata": {
        "id": "QHF8YVU7Yuh3"
      }
    },
    {
      "cell_type": "markdown",
      "source": [
        "### A bar chart shows value counts and frequency of the data for each columns and I picked this chart to see number of shows for each catagory of ratings."
      ],
      "metadata": {
        "id": "dcxuIMRPYuh3"
      }
    },
    {
      "cell_type": "markdown",
      "source": [
        "##### 2. What is/are the insight(s) found from the chart?"
      ],
      "metadata": {
        "id": "GwzvFGzlYuh3"
      }
    },
    {
      "cell_type": "markdown",
      "source": [
        "### Number of Movies for top 5 ratings:\n",
        "\n",
        "TV-MA : 1845\n",
        "\n",
        "TV-14 : 1272\n",
        "\n",
        "R : 663\n",
        "\n",
        "TV-PG : 505\n",
        "\n",
        "PG-13 : 386\n",
        "\n",
        "Numbere of TV Shows for top 5 ratings:\n",
        "\n",
        "TV-MA : 1018\n",
        "\n",
        "TV-14 : 659\n",
        "\n",
        "TV-PG : 301\n",
        "\n",
        "TV-Y7 : 176\n",
        "\n",
        "TV-Y : 163"
      ],
      "metadata": {
        "id": "uyqkiB8YYuh3"
      }
    },
    {
      "cell_type": "markdown",
      "source": [
        "##### 3. Will the gained insights help creating a positive business impact? \n",
        "Are there any insights that lead to negative growth? Justify with specific reason."
      ],
      "metadata": {
        "id": "qYpmQ266Yuh3"
      }
    },
    {
      "cell_type": "markdown",
      "source": [
        "### Yes, The gained insight will help while making prediction."
      ],
      "metadata": {
        "id": "_WtzZ_hCYuh4"
      }
    },
    {
      "cell_type": "markdown",
      "source": [
        "#### Chart - 6"
      ],
      "metadata": {
        "id": "OH-pJp9IphqM"
      }
    },
    {
      "cell_type": "markdown",
      "source": [
        "###  Bar chart for Listed-in."
      ],
      "metadata": {
        "id": "WBhMN40sly8q"
      }
    },
    {
      "cell_type": "code",
      "source": [
        "# Chart - 6 visualization code\n",
        "# Chart - 8 visualization code - Top 5 genres with highest number of shows\n",
        "plt.xticks(np.arange(0,2601,200))\n",
        "netflixVisualization.getTopBarh('listed_in')"
      ],
      "metadata": {
        "id": "kuRf4wtuphqN"
      },
      "execution_count": null,
      "outputs": []
    },
    {
      "cell_type": "code",
      "source": [
        "# Chart - 6 visualization code - Top 5 Listed_in with highest number of Movies\n",
        "netflixVisualization.chart_6('movie',top=5)"
      ],
      "metadata": {
        "id": "SyK2LtBAmPny"
      },
      "execution_count": null,
      "outputs": []
    },
    {
      "cell_type": "code",
      "source": [
        "# Top 5 Listed_in with highest number of TV shows\n",
        "netflixVisualization.chart_6('tv',top=5)"
      ],
      "metadata": {
        "id": "2xpBaLypmUMA"
      },
      "execution_count": null,
      "outputs": []
    },
    {
      "cell_type": "markdown",
      "source": [
        "##### 1. Why did you pick the specific chart?"
      ],
      "metadata": {
        "id": "bbFf2-_FphqN"
      }
    },
    {
      "cell_type": "markdown",
      "source": [
        "### A bar chart shows value counts and frequency of the data for each columns and I picked this chart to see number of shows for each catagory of genres."
      ],
      "metadata": {
        "id": "loh7H2nzphqN"
      }
    },
    {
      "cell_type": "markdown",
      "source": [
        "##### 2. What is/are the insight(s) found from the chart?"
      ],
      "metadata": {
        "id": "_ouA3fa0phqN"
      }
    },
    {
      "cell_type": "markdown",
      "source": [
        "### Top 10 genres with highest number of movies/tv shows.\n",
        "\n",
        "International Movies : 2437\n",
        "\n",
        "Dramas : 2106\n",
        "\n",
        "Comedies : 1471\n",
        "\n",
        "International TV Shows : 1199\n",
        "\n",
        "Documentaries : 786\n",
        "\n",
        "Genres with highest number of movies :\n",
        "\n",
        "Documentaries : 334\n",
        "\n",
        "Stand-Up Comedy : 321\n",
        "\n",
        "Dramas, International Movies : 320\n",
        "\n",
        "Comedies, Dramas, International Movies : 243\n",
        "\n",
        "Dramas, Independent Movies, International Movies : 215\n",
        "\n",
        "Genres with highest number of TV Shows:\n",
        "\n",
        "Kids' TV : 205\n",
        "\n",
        "International TV Shows, TV Dramas : 111\n",
        "\n",
        "Crime TV Shows, International TV Shows, TV Dramas : 106\n",
        "\n",
        "Kids' TV, TV Comedies : 90\n",
        "\n",
        "International TV Shows, Romantic TV Shows, TV Dramas : 86"
      ],
      "metadata": {
        "id": "VECbqPI7phqN"
      }
    },
    {
      "cell_type": "markdown",
      "source": [
        "##### 3. Will the gained insights help creating a positive business impact? \n",
        "Are there any insights that lead to negative growth? Justify with specific reason."
      ],
      "metadata": {
        "id": "Seke61FWphqN"
      }
    },
    {
      "cell_type": "markdown",
      "source": [
        "### Yes the gained insight will help while making the prediction.\n",
        "\n",
        "### Documentaries, Stand-up comedies, dramas, international movies, comedies and independent the genres which highest number of movies are being produced.\n",
        "### Therefore these we can say that consumers mostly likes this kind of movies. 2. Kids TV, International TV shows, TV dramas, Crime tv shows, Romantic TV shows are the genres which are being produced in highest quantity."
      ],
      "metadata": {
        "id": "DW4_bGpfphqN"
      }
    },
    {
      "cell_type": "markdown",
      "source": [
        "#### Chart - 7"
      ],
      "metadata": {
        "id": "PIIx-8_IphqN"
      }
    },
    {
      "cell_type": "markdown",
      "source": [
        "### Bar chart top 5 actors."
      ],
      "metadata": {
        "id": "_qAYzHWknwY4"
      }
    },
    {
      "cell_type": "code",
      "source": [
        "# Chart - 7 visualization code\n",
        "# Chart - 7 visualization code - Top 5 Actors with highest number of shows\n",
        "plt.xticks(np.arange(0,43,1))\n",
        "netflixVisualization.getTopBarh('cast')"
      ],
      "metadata": {
        "id": "lqAIGUfyphqO"
      },
      "execution_count": null,
      "outputs": []
    },
    {
      "cell_type": "markdown",
      "source": [
        "##### 1. Why did you pick the specific chart?"
      ],
      "metadata": {
        "id": "t27r6nlMphqO"
      }
    },
    {
      "cell_type": "markdown",
      "source": [
        "### A bar chart shows value counts and frequency of the data for each columns and I picked this chart to see top 10 actors with highest number of movies/tv show."
      ],
      "metadata": {
        "id": "iv6ro40sphqO"
      }
    },
    {
      "cell_type": "markdown",
      "source": [
        "##### 2. What is/are the insight(s) found from the chart?"
      ],
      "metadata": {
        "id": "r2jJGEOYphqO"
      }
    },
    {
      "cell_type": "markdown",
      "source": [
        "### I found that Anupam Kher worked in about 42 movies which is highest then Shahrukh Khan worked in about 37 movies that is 2nd highest followed by OM Puri, Nasisuddin Shah, Takahiro Sakurai, Akshay Kumar, Paresh Rawal, Yuki Kaji, Boman Irani and Amitabh Bachchan respectively."
      ],
      "metadata": {
        "id": "Po6ZPi4hphqO"
      }
    },
    {
      "cell_type": "markdown",
      "source": [
        "##### 3. Will the gained insights help creating a positive business impact? \n",
        "Are there any insights that lead to negative growth? Justify with specific reason."
      ],
      "metadata": {
        "id": "b0JNsNcRphqO"
      }
    },
    {
      "cell_type": "markdown",
      "source": [
        "### Yes the gained insight will help while making the prediction. These are the top actors consumers likes to watch them and their movies mostly break the records and earns high profits."
      ],
      "metadata": {
        "id": "xvSq8iUTphqO"
      }
    },
    {
      "cell_type": "markdown",
      "source": [
        "#### Chart - 8"
      ],
      "metadata": {
        "id": "BZR9WyysphqO"
      }
    },
    {
      "cell_type": "markdown",
      "source": [
        "###  Bar chart monthly shows count.\n"
      ],
      "metadata": {
        "id": "ch8xQlT8oZ_X"
      }
    },
    {
      "cell_type": "code",
      "source": [
        "# Chart - 8 visualization code\n",
        "netflixWrangling.getShowsPerMonth().plot.barh(figsize=(12,4),color=netflixVisualization.bar_colors)\n",
        "plt.title('Monthly Show count')\n",
        "plt.xlabel('Counts')\n",
        "plt.ylabel('Months')\n",
        "plt.xticks(np.arange(0,851,50))\n",
        "plt.show()"
      ],
      "metadata": {
        "id": "TdPTWpAVphqO"
      },
      "execution_count": null,
      "outputs": []
    },
    {
      "cell_type": "markdown",
      "source": [
        "##### 1. Why did you pick the specific chart?"
      ],
      "metadata": {
        "id": "jj7wYXLtphqO"
      }
    },
    {
      "cell_type": "markdown",
      "source": [
        "### A bar chart shows value counts and frequency of the data for each column therefore I picked this chart to see counts of shows for each month."
      ],
      "metadata": {
        "id": "Ob8u6rCTphqO"
      }
    },
    {
      "cell_type": "markdown",
      "source": [
        "##### 2. What is/are the insight(s) found from the chart?"
      ],
      "metadata": {
        "id": "eZrbJ2SmphqO"
      }
    },
    {
      "cell_type": "markdown",
      "source": [
        "### I found that october, november, december and january have more than 700 highest number of movies are produced but every month there are more than 400 movies or TV Shows are being produced.\n"
      ],
      "metadata": {
        "id": "mZtgC_hjphqO"
      }
    },
    {
      "cell_type": "markdown",
      "source": [
        "##### 3. Will the gained insights help creating a positive business impact? \n",
        "Are there any insights that lead to negative growth? Justify with specific reason."
      ],
      "metadata": {
        "id": "rFu4xreNphqO"
      }
    },
    {
      "cell_type": "markdown",
      "source": [
        "### Most of the movies are get produced during winter season."
      ],
      "metadata": {
        "id": "ey_0qi68phqO"
      }
    },
    {
      "cell_type": "markdown",
      "source": [
        "## ***6. Feature Engineering & Data Pre-processing***"
      ],
      "metadata": {
        "id": "yLjJCtPM0KBk"
      }
    },
    {
      "cell_type": "markdown",
      "source": [
        "### 1. Handling Missing Values"
      ],
      "metadata": {
        "id": "xiyOF9F70UgQ"
      }
    },
    {
      "cell_type": "code",
      "source": [
        "# Handling Missing Values & Missing Value Imputation\n",
        "df_copy = netflix_df.copy()\n",
        "df_copy['cast'] = df_copy['cast'].fillna('unknown cast')\n",
        "df_copy['country'] = df_copy['country'].fillna('unknown country')\n",
        "df_copy.drop(columns=['director'],inplace=True)\n",
        "df_copy = df_copy.dropna()"
      ],
      "metadata": {
        "id": "iRsAHk1K0fpS"
      },
      "execution_count": null,
      "outputs": []
    },
    {
      "cell_type": "markdown",
      "source": [
        "#### What all missing value imputation techniques have you used and why did you use those techniques?"
      ],
      "metadata": {
        "id": "7wuGOrhz0itI"
      }
    },
    {
      "cell_type": "markdown",
      "source": [
        "### First of all I replace nan with unknown cast and unknown country for columns cast and country. Then I dropped those rows which has less than or uqual to 10 nan values."
      ],
      "metadata": {
        "id": "1ixusLtI0pqI"
      }
    },
    {
      "cell_type": "code",
      "source": [
        "df_copy.shape"
      ],
      "metadata": {
        "id": "o5cZKgB_0lrA"
      },
      "execution_count": null,
      "outputs": []
    },
    {
      "cell_type": "markdown",
      "source": [
        "### 2. Handling Outliers"
      ],
      "metadata": {
        "id": "id1riN9m0vUs"
      }
    },
    {
      "cell_type": "code",
      "source": [
        "# Handling Outliers & Outlier treatments\n",
        "# Function for displaying outliers\n",
        "def displayOutliers():\n",
        "  ''' This function display outliers '''\n",
        "  sns.boxplot(df_copy['release_year'])\n",
        "  plt.xticks(np.arange(1920,2031,10))\n",
        "  plt.show()\n",
        "\n",
        "# Function for outlier treatment\n",
        "def treatOutliers(df_copy):\n",
        "  ''' Function takes dataset and returns a dataset after treating the outliers '''\n",
        "  q1 = df_copy['release_year'].quantile(.25)\n",
        "  q3 = df_copy['release_year'].quantile(.75)\n",
        "  iqr = q3-q1\n",
        "  lower = q1-1.5*(iqr)\n",
        "  df_copy = df_copy[df_copy['release_year'] > lower]\n",
        "  return df_copy\n",
        "\n",
        "# Treating the outlier by applying the above function\n",
        "print('Before outlier treatment')\n",
        "displayOutliers()\n",
        "for i in range(2):\n",
        "    print('After iteration '+str(i+1))\n",
        "    df_copy=treatOutliers(df_copy)\n",
        "    displayOutliers()"
      ],
      "metadata": {
        "id": "M6w2CzZf04JK"
      },
      "execution_count": null,
      "outputs": []
    },
    {
      "cell_type": "markdown",
      "source": [
        "##### What all outlier treatment techniques have you used and why did you use those techniques?"
      ],
      "metadata": {
        "id": "578E2V7j08f6"
      }
    },
    {
      "cell_type": "markdown",
      "source": [
        "### I used q1-1.5iqr technique to remove uni-variate outliers because the column release_year had outliers."
      ],
      "metadata": {
        "id": "uGZz5OrT1HH-"
      }
    },
    {
      "cell_type": "markdown",
      "source": [
        "### 3. Categorical Encoding"
      ],
      "metadata": {
        "id": "89xtkJwZ18nB"
      }
    },
    {
      "cell_type": "code",
      "source": [
        "# Encode your categorical columns\n",
        "# One hot encoding for the column type\n",
        "df_copy['movie'] = df_copy['type'].apply(lambda x: 1 if x=='Movie' else 0)\n",
        "df_copy['tv_show'] = df_copy['type'].apply(lambda x: 0 if x=='Movie' else 1)\n",
        "df_copy.drop(columns=['type'],inplace=True)"
      ],
      "metadata": {
        "id": "21JmIYMG2hEo"
      },
      "execution_count": null,
      "outputs": []
    },
    {
      "cell_type": "markdown",
      "source": [
        "#### What all categorical encoding techniques have you used & why did you use those techniques?"
      ],
      "metadata": {
        "id": "67NQN5KX2AMe"
      }
    },
    {
      "cell_type": "markdown",
      "source": [
        "### One hot encoding technique is not biased to a particular variable therefore I did one hot encoding of column type and created new columns movie and tv_show.\n"
      ],
      "metadata": {
        "id": "UDaue5h32n_G"
      }
    },
    {
      "cell_type": "markdown",
      "source": [
        "### 4. Textual Data Preprocessing \n",
        "(It's mandatory for textual dataset i.e., NLP, Sentiment Analysis, Text Clustering etc.)"
      ],
      "metadata": {
        "id": "Iwf50b-R2tYG"
      }
    },
    {
      "cell_type": "code",
      "source": [
        "# Combining the textual columns and assigning it to a new variable\n",
        "df_copy['cluster_col'] = (df_copy['cast']+' '+df_copy['listed_in']+' '+' '+df_copy['description'])"
      ],
      "metadata": {
        "id": "XIVywEHtqKRu"
      },
      "execution_count": null,
      "outputs": []
    },
    {
      "cell_type": "markdown",
      "source": [
        "#### 1. Expand Contraction  - **Not done**"
      ],
      "metadata": {
        "id": "GMQiZwjn3iu7"
      }
    },
    {
      "cell_type": "markdown",
      "source": [
        "#### 2. Lower Casing"
      ],
      "metadata": {
        "id": "WVIkgGqN3qsr"
      }
    },
    {
      "cell_type": "code",
      "source": [
        "# Lower Casing\n",
        "# Function to convert in lower case\n",
        "def lower_casing(text):\n",
        "  ''' function takes string and conver it to lower case '''\n",
        "  list_of_words = [letter.lower() for letter in text.split()]\n",
        "  return ' '.join(list_of_words)\n",
        "  \n",
        "df_copy['cluster_col'] = df_copy['cluster_col'].apply(lower_casing)"
      ],
      "metadata": {
        "id": "88JnJ1jN3w7j"
      },
      "execution_count": null,
      "outputs": []
    },
    {
      "cell_type": "markdown",
      "source": [
        "#### 3. Removing Punctuations"
      ],
      "metadata": {
        "id": "XkPnILGE3zoT"
      }
    },
    {
      "cell_type": "code",
      "source": [
        "# Remove Punctuations\n",
        "# Function to remove punctuations\n",
        "def rem_punctuation(text):\n",
        "  '''\n",
        "  takes text and removes punctuations\n",
        "  '''\n",
        "  return ''.join([t for t in text if t not in string.punctuation])\n",
        "  \n",
        "# Remove Punctuations\n",
        "df_copy['cluster_col'] = df_copy['cluster_col'].apply(lower_casing)"
      ],
      "metadata": {
        "id": "vqbBqNaA33c0"
      },
      "execution_count": null,
      "outputs": []
    },
    {
      "cell_type": "markdown",
      "source": [
        "#### 4. Removing URLs & Removing words and digits contain digits."
      ],
      "metadata": {
        "id": "Hlsf0x5436Go"
      }
    },
    {
      "cell_type": "code",
      "source": [
        "# Remove URLs & Remove words and digits contain digits\n",
        "# Function to remove URLs and digits\n",
        "def removeDigits(text):\n",
        "  '''\n",
        "  takes text and removes digits\n",
        "  '''\n",
        "  nums = ['0','1','2','3','4','5','6','7','8','9']\n",
        "  return ''.join([t for t in text if t not in nums])\n",
        "\n",
        "df_copy['cluster_col'] = df_copy['cluster_col'].apply(removeDigits)\n",
        "\n",
        "# Function to remove url\n",
        "def removeUrls(text):\n",
        "  '''\n",
        "  Takes a texts and removes url\n",
        "  '''\n",
        "  return ' '.join([t for t in text.split('.') if t not in ['com','www','https//']])\n",
        "\n",
        "# Remove URLs & Remove words and digits contain digits\n",
        "df_copy['cluster_col'] = df_copy['cluster_col'].apply(removeUrls)"
      ],
      "metadata": {
        "id": "2sxKgKxu4Ip3"
      },
      "execution_count": null,
      "outputs": []
    },
    {
      "cell_type": "markdown",
      "source": [
        "#### 5. Removing Stopwords & Removing White spaces"
      ],
      "metadata": {
        "id": "mT9DMSJo4nBL"
      }
    },
    {
      "cell_type": "code",
      "source": [
        "# Remove Stopwords\n",
        "nltk.download('stopwords')\n",
        "# Function to remove stop words\n",
        "def removeStopWords(text):\n",
        "  '''\n",
        "  Takes text and removes stop words\n",
        "  '''\n",
        "  stopwords_ = nltk.corpus.stopwords.words('english')\n",
        "  return ' '.join([t for t in text.split() if t not in stopwords_])\n",
        "\n",
        "# Remove Stopwords\n",
        "print('Length before removing stopwords ',len(df_copy['cluster_col'][0]))\n",
        "df_copy['cluster_col'] = df_copy['cluster_col'].apply(removeStopWords)\n",
        "print('Length after removing stopwords ',len(df_copy['cluster_col'][0]))"
      ],
      "metadata": {
        "id": "T2LSJh154s8W"
      },
      "execution_count": null,
      "outputs": []
    },
    {
      "cell_type": "code",
      "source": [
        "# Remove White spaces\n",
        "# Function to remove white spaces\n",
        "def removeWhiteSpace(text):\n",
        "  '''\n",
        "  takes text and removes white spaces\n",
        "  '''\n",
        "  return ' '.join([t for t in text.split(' ')])\n",
        "# Remove White spaces\n",
        "df_copy['cluster_col'] = df_copy['cluster_col'].apply(removeWhiteSpace)"
      ],
      "metadata": {
        "id": "EgLJGffy4vm0"
      },
      "execution_count": null,
      "outputs": []
    },
    {
      "cell_type": "markdown",
      "source": [
        "#### 6. Tokenization"
      ],
      "metadata": {
        "id": "OeJFEK0N496M"
      }
    },
    {
      "cell_type": "code",
      "source": [
        "# Tokenization\n",
        "# Vectorization Function\n",
        "def getVectorized(df):\n",
        "  ''' Function takes dataset and apply vectorization '''\n",
        "  count_vectorizer = CountVectorizer()\n",
        "  # Fitting the count vectorizer\n",
        "  count_vectorizer.fit_transform(df['cluster_col'])\n",
        "  # Collecting the vocabularies\n",
        "  return count_vectorizer.vocabulary_.items()\n",
        "\n",
        "# Applying the  above function and showing the features\n",
        "dictionary_cluster_col = getVectorized(df_copy)\n",
        "dictionary_cluster_col"
      ],
      "metadata": {
        "id": "ijx1rUOS5CUU"
      },
      "execution_count": null,
      "outputs": []
    },
    {
      "cell_type": "code",
      "source": [
        "# Total features\n",
        "print('Total Features ',len(dictionary_cluster_col))"
      ],
      "metadata": {
        "id": "yZCrDu30rJHo"
      },
      "execution_count": null,
      "outputs": []
    },
    {
      "cell_type": "markdown",
      "source": [
        "#### 7. Text Normalization"
      ],
      "metadata": {
        "id": "9ExmJH0g5HBk"
      }
    },
    {
      "cell_type": "code",
      "source": [
        "# Normalizing Text (i.e., Stemming, Lemmatization etc.)\n",
        "# Stemming function\n",
        "def stemming(text):\n",
        "  ''' Takes text and returns after stemming. '''\n",
        "  stemmer = SnowballStemmer('english')\n",
        "  return ' '.join([stemmer.stem(t) for t in text.split()])\n",
        "\n",
        "# Function to assign words and counts from dictionary to list\n",
        "def assignWordsAndCountsToList(dictionary):\n",
        "  ''' Takes dictionary and return list of words and counts. '''\n",
        "  vocab_cluster = [ ]\n",
        "  vocab_counts_cluster = []\n",
        "  for key , value in dictionary:\n",
        "    vocab_cluster.append( key )\n",
        "    vocab_counts_cluster.append( value )\n",
        "  return vocab_cluster,vocab_counts_cluster\n",
        "\n",
        "# Function to display word count\n",
        "def displayTop20Words(df):\n",
        "  '''  Displays top 20 words. '''\n",
        "  plt.barh(df.head(20)['word'].values,df.head(20)['count'].values)\n",
        "  plt.xlabel('Count')\n",
        "  plt.ylabel('Words')\n",
        "  plt.show()"
      ],
      "metadata": {
        "id": "AIJ1a-Zc5PY8"
      },
      "execution_count": null,
      "outputs": []
    },
    {
      "cell_type": "markdown",
      "source": [
        "### Before Stemming"
      ],
      "metadata": {
        "id": "pP0Z83_3rb4n"
      }
    },
    {
      "cell_type": "code",
      "source": [
        "# Assigning words and counts to lists\n",
        "vocab_cluster,vocab_counts_cluster = assignWordsAndCountsToList(dictionary_cluster_col)\n",
        "# Words and counts before stemming\n",
        "df_cluster_before_stem = pd.DataFrame({'word':vocab_cluster,'count':vocab_counts_cluster}).sort_values(by='count',ascending=False)\n",
        "df_cluster_before_stem.head(20).T"
      ],
      "metadata": {
        "id": "uypON9WArWqW"
      },
      "execution_count": null,
      "outputs": []
    },
    {
      "cell_type": "code",
      "source": [
        "# Plotting top 10 words\n",
        "plt.rcParams['figure.figsize'] = (15,7)\n",
        "plt.xlim(40225,40255)\n",
        "plt.title('Word counts before Stemming for Cluster_col')\n",
        "displayTop20Words(df_cluster_before_stem)"
      ],
      "metadata": {
        "id": "t260KDsbrg7O"
      },
      "execution_count": null,
      "outputs": []
    },
    {
      "cell_type": "markdown",
      "source": [
        "##### Which text normalization technique have you used and why?"
      ],
      "metadata": {
        "id": "cJNqERVU536h"
      }
    },
    {
      "cell_type": "markdown",
      "source": [
        "### Stemming removes the extra tail of the words like coming converted to come. I am using this technique to remove the tail of the words."
      ],
      "metadata": {
        "id": "Z9jKVxE06BC1"
      }
    },
    {
      "cell_type": "markdown",
      "source": [
        "#### 8. Text Vectorization"
      ],
      "metadata": {
        "id": "T0VqWOYE6DLQ"
      }
    },
    {
      "cell_type": "code",
      "source": [
        "# Function to get number from proportion\n",
        "def proportionToNumber(proportion,data):\n",
        "  return (proportion * data)/100\n",
        "\n",
        "num = int(round(proportionToNumber(1,len(df_copy)),0))\n",
        "# Vectorizing Text - discarding features which are available less then 1% of the dataset and more than 90%.\n",
        "tfidfvectorizer = TfidfVectorizer(min_df=num,max_df=.9)\n",
        "features_array = tfidfvectorizer.fit_transform(df_copy['cluster_col']).toarray()\n",
        "features_names = tfidfvectorizer.get_feature_names_out()\n",
        "df_copy.shape"
      ],
      "metadata": {
        "id": "EKKDIUvhr7O0"
      },
      "execution_count": null,
      "outputs": []
    },
    {
      "cell_type": "code",
      "source": [
        "# Making dataframe with vocabularies\n",
        "X = pd.DataFrame(features_array,columns=features_names)\n",
        "X.shape"
      ],
      "metadata": {
        "id": "NIWi6r35wcde"
      },
      "execution_count": null,
      "outputs": []
    },
    {
      "cell_type": "markdown",
      "source": [
        "##### Which text vectorization technique have you used and why?"
      ],
      "metadata": {
        "id": "qBMux9mC6MCf"
      }
    },
    {
      "cell_type": "markdown",
      "source": [
        "### I used tfidfVectorization technique."
      ],
      "metadata": {
        "id": "su2EnbCh6UKQ"
      }
    },
    {
      "cell_type": "markdown",
      "source": [
        "### 9. Dimesionality Reduction"
      ],
      "metadata": {
        "id": "1UUpS68QDMuG"
      }
    },
    {
      "cell_type": "markdown",
      "source": [
        "##### Do you think that dimensionality reduction is needed? Explain Why?"
      ],
      "metadata": {
        "id": "kexQrXU-DjzY"
      }
    },
    {
      "cell_type": "markdown",
      "source": [
        "### Since there are a huge number of features and most of them are containing zeros therefore we need to do dimentionality reduction.\n"
      ],
      "metadata": {
        "id": "GGRlBsSGDtTQ"
      }
    },
    {
      "cell_type": "code",
      "source": [
        "# DImensionality Reduction (If needed)\n",
        "pca = PCA(n_components=.975)\n",
        "pca.fit(X.values)\n",
        "X2 = pca.transform(X.values)\n",
        "len(X2[0])"
      ],
      "metadata": {
        "id": "kQfvxBBHDvCa"
      },
      "execution_count": null,
      "outputs": []
    },
    {
      "cell_type": "markdown",
      "source": [
        "##### Which dimensionality reduction technique have you used and why? (If dimensionality reduction done on dataset.)"
      ],
      "metadata": {
        "id": "T5CmagL3EC8N"
      }
    },
    {
      "cell_type": "markdown",
      "source": [
        "### I used principal component analysis."
      ],
      "metadata": {
        "id": "ZKr75IDuEM7t"
      }
    },
    {
      "cell_type": "markdown",
      "source": [
        "## ***7. ML Model Implementation***"
      ],
      "metadata": {
        "id": "VfCC591jGiD4"
      }
    },
    {
      "cell_type": "markdown",
      "source": [
        "### ML Model - 1 - KMeans"
      ],
      "metadata": {
        "id": "OB4l2ZhMeS1U"
      }
    },
    {
      "cell_type": "code",
      "source": [
        "# Function to display clusters\n",
        "def displayClusters(X,labels,centers):\n",
        "  ''' Takes data, labels and centers and plots the scatter chart '''\n",
        "  plt.scatter(X2[: , 0] , X2[: , 1] , c=labels,s=10,cmap='viridis')\n",
        "  plt.scatter(centers[:, 0],centers[:, 1],c='red',s=15)\n",
        "  plt.show()"
      ],
      "metadata": {
        "id": "tWH9WwowuOwf"
      },
      "execution_count": null,
      "outputs": []
    },
    {
      "cell_type": "code",
      "source": [
        "# ML Model - 1 Implementation - KElbowVisualization\n",
        "plt.rcParams['figure.figsize'] = (12,7)\n",
        "model = KMeans(random_state=10)\n",
        "visualizer = KElbowVisualizer(model,k=(2,15),metric='calinski_harabasz',timings=False,locate_elbow=False)\n",
        "# Fit the Algorithm\n",
        "visualizer.fit(X2)\n",
        "# Predict on the model\n",
        "visualizer.show()\n",
        "plt.show()"
      ],
      "metadata": {
        "id": "EmMsAp4NuSKk"
      },
      "execution_count": null,
      "outputs": []
    },
    {
      "cell_type": "code",
      "source": [
        "# Silhouette Score for each cluster\n",
        "n_clusters_range = np.arange(2,15)\n",
        "for c in n_clusters_range:\n",
        "    clusterer = KMeans(n_clusters=c,random_state=10)\n",
        "    pred = clusterer.fit_predict(X2)\n",
        "    centers = clusterer.cluster_centers_\n",
        "    score = silhouette_score(X2,pred)\n",
        "    inertia = clusterer.inertia_\n",
        "    print('for cluster ',c,' the silhouette score is ',score)\n",
        "# plotting the results:\n",
        "    displayClusters(X2,pred,centers)"
      ],
      "metadata": {
        "id": "VigRIq1YxD7T"
      },
      "execution_count": null,
      "outputs": []
    },
    {
      "cell_type": "code",
      "source": [
        "# Silhouette score is good at 6 clusters therefore I am taking n_clusters = 6.\n",
        "kmeans= KMeans(n_clusters=6, random_state=10,max_iter=100)\n",
        "kmeans.fit(X2)\n",
        "\n",
        "# predict the labels of clusters.\n",
        "labels = kmeans.fit_predict(X2)\n",
        "centers = kmeans.cluster_centers_\n",
        "# plotting the results:\n",
        "displayClusters(X2,labels,centers)"
      ],
      "metadata": {
        "id": "C0x8or8FxaQo"
      },
      "execution_count": null,
      "outputs": []
    },
    {
      "cell_type": "markdown",
      "source": [
        "#### 1. Explain the ML Model used and it's performance using Evaluation metric Score Chart."
      ],
      "metadata": {
        "id": "ArJBuiUVfxKd"
      }
    },
    {
      "cell_type": "markdown",
      "source": [
        "### From KElbow visualization I found that after n_cluster = 6 the slope is very close to constant and silhouette score is also high that is .054\n"
      ],
      "metadata": {
        "id": "RUfolT5Nxk0r"
      }
    },
    {
      "cell_type": "markdown",
      "source": [
        "#### 2. Cross- Validation & Hyperparameter Tuning"
      ],
      "metadata": {
        "id": "4qY1EAkEfxKe"
      }
    },
    {
      "cell_type": "code",
      "source": [
        "# ML Model - 1 Implementation with hyperparameter optimization techniques (i.e., GridSearch CV, RandomSearch CV, Bayesian Optimization etc.)\n",
        "mdl = KMeans()\n",
        "params ={'n_clusters':[6],'random_state':[10],'max_iter':[15,20],'tol':[.01,.1]}\n",
        "kmeans_gridcv = GridSearchCV(mdl,param_grid=params,verbose=2,cv=2)\n",
        "# Fit the Algorithm\n",
        "kmeans_gridcv.fit(X2)\n",
        "# Predict on the model\n",
        "best_kmeans = kmeans_gridcv.best_estimator_\n",
        "labels = best_kmeans.predict(X2)"
      ],
      "metadata": {
        "id": "vgngVLSrx5Lz"
      },
      "execution_count": null,
      "outputs": []
    },
    {
      "cell_type": "code",
      "source": [
        "kmeans_gridcv.best_params_"
      ],
      "metadata": {
        "id": "vStRUQm6yCYM"
      },
      "execution_count": null,
      "outputs": []
    },
    {
      "cell_type": "code",
      "source": [
        "# plotting the results:\n",
        "centers = best_kmeans.cluster_centers_\n",
        "plt.scatter(X2[: , 0] , X2[: , 1] , c=labels,s=10,cmap='viridis')\n",
        "plt.scatter(centers[:, 0],centers[:, 1],c='red',s=15)\n",
        "plt.show()"
      ],
      "metadata": {
        "id": "6y2-1IzYyHty"
      },
      "execution_count": null,
      "outputs": []
    },
    {
      "cell_type": "markdown",
      "source": [
        "##### Which hyperparameter optimization technique have you used and why?"
      ],
      "metadata": {
        "id": "PiV4Ypx8fxKe"
      }
    },
    {
      "cell_type": "markdown",
      "source": [
        "### I think cross validation is not needed for clustering.\n",
        "\n",
        "### I used n_clusters and max_iter hyper parameters to tune the parameters and I did not found any improvement."
      ],
      "metadata": {
        "id": "negyGRa7fxKf"
      }
    },
    {
      "cell_type": "markdown",
      "source": [
        "##### Have you seen any improvement? Note down the improvement with updates Evaluation metric Score Chart."
      ],
      "metadata": {
        "id": "TfvqoZmBfxKf"
      }
    },
    {
      "cell_type": "markdown",
      "source": [
        "### I did not see any improvement."
      ],
      "metadata": {
        "id": "OaLui8CcfxKf"
      }
    },
    {
      "cell_type": "markdown",
      "source": [
        "### ML Model - 2 - Agglomerative Clustering"
      ],
      "metadata": {
        "id": "dJ2tPlVmpsJ0"
      }
    },
    {
      "cell_type": "code",
      "source": [
        "# Using the dendogram to find the optimal number of clusters - and find largest vertical distance we can make without crossing any other horizontal line\n",
        "linkage =sch.linkage(X2, method = 'ward')\n",
        "dendrogram = sch.dendrogram(linkage)\n",
        "plt.title('Dendrogram')\n",
        "plt.xlabel('Shows')\n",
        "plt.ylabel('Euclidean Distances')\n",
        "plt.show() "
      ],
      "metadata": {
        "id": "l4C16KCMymO-"
      },
      "execution_count": null,
      "outputs": []
    },
    {
      "cell_type": "code",
      "source": [
        "# Fitting hierarchical clustering to the mall dataset\n",
        "# Average and single linkage is not good\n",
        "hc = AgglomerativeClustering(n_clusters = 4, affinity = 'euclidean', linkage = 'ward')\n",
        "y_hc = hc.fit_predict(X2)\n",
        "# Plotting the results:\n",
        "plt.scatter(X2[: , 0] , X2[: , 1] , c=y_hc,s=10,cmap='Paired')\n",
        "plt.show()"
      ],
      "metadata": {
        "id": "u81opQ_eyqgZ"
      },
      "execution_count": null,
      "outputs": []
    },
    {
      "cell_type": "markdown",
      "source": [
        "#### 1. Explain the ML Model used and it's performance using Evaluation metric Score Chart."
      ],
      "metadata": {
        "id": "JWYfwnehpsJ1"
      }
    },
    {
      "cell_type": "markdown",
      "source": [
        "### Since there are lot of noice in the dataset therefore the result is not good but for n_clusters = 4 it seems better."
      ],
      "metadata": {
        "id": "E6W2MQ7DyxAr"
      }
    },
    {
      "cell_type": "markdown",
      "source": [
        "### 2. Cross- Validation & Hyperparameter Tuning - Not required.\n"
      ],
      "metadata": {
        "id": "oMeeKMVcy7HH"
      }
    },
    {
      "cell_type": "markdown",
      "source": [
        "### ML Model - 3 - DBSCAN"
      ],
      "metadata": {
        "id": "Fze-IPXLpx6K"
      }
    },
    {
      "cell_type": "code",
      "source": [
        "# ML Model - 3 Implementation\n",
        "dbscan = DBSCAN(eps=.91,min_samples=15,algorithm='auto')\n",
        "# Fit the Algorithm\n",
        "dbscan.fit(X2)\n",
        "# Predict on the model\n",
        "ypred = dbscan.fit_predict(X2)"
      ],
      "metadata": {
        "id": "fQ3T9XHQzMX6"
      },
      "execution_count": null,
      "outputs": []
    },
    {
      "cell_type": "markdown",
      "source": [
        "#### 1. Explain the ML Model used and it's performance using Evaluation metric Score Chart."
      ],
      "metadata": {
        "id": "7AN1z2sKpx6M"
      }
    },
    {
      "cell_type": "code",
      "source": [
        "# Visualizing evaluation Metric Score chart\n",
        "# Visualizing evaluation Metric Score chart\n",
        "plt.scatter(X2[:,0], X2[:,1], c=ypred,s=5,cmap='coolwarm')\n",
        "plt.show()"
      ],
      "metadata": {
        "id": "xIY4lxxGpx6M"
      },
      "execution_count": null,
      "outputs": []
    },
    {
      "cell_type": "markdown",
      "source": [
        "### Dbscan is not good if there are lot of noise in the dataset. Here we can see this algorithm is giving a big cluser and 3 to 4 very small clusters."
      ],
      "metadata": {
        "id": "SRE_yt9_zWLY"
      }
    },
    {
      "cell_type": "markdown",
      "source": [
        "### 2. Cross- Validation & Hyperparameter Tuning - Not required."
      ],
      "metadata": {
        "id": "6_snJqfpzcvb"
      }
    },
    {
      "cell_type": "markdown",
      "source": [
        "### 1. Which Evaluation metrics did you consider for a positive business impact and why?"
      ],
      "metadata": {
        "id": "h_CCil-SKHpo"
      }
    },
    {
      "cell_type": "markdown",
      "source": [
        "### Euclidean distance."
      ],
      "metadata": {
        "id": "jHVz9hHDKFms"
      }
    },
    {
      "cell_type": "markdown",
      "source": [
        "### 2. Which ML model did you choose from the above created models as your final prediction model and why?"
      ],
      "metadata": {
        "id": "cBFFvTBNJzUa"
      }
    },
    {
      "cell_type": "markdown",
      "source": [
        "### I would choose Kmeans because the model is fast and giving better result than all the others."
      ],
      "metadata": {
        "id": "6ksF5Q1LKTVm"
      }
    },
    {
      "cell_type": "markdown",
      "source": [
        "# **Conclusion**"
      ],
      "metadata": {
        "id": "gCX9965dhzqZ"
      }
    },
    {
      "cell_type": "markdown",
      "source": [
        "### The dataset has 7787 rows and 12 columns.\n",
        "\n",
        "### There are 30.68% null values in director, 9.22% in cast column, 6.51% in country, 0.13 in date_added, and 0.09 on rating columns.\n",
        "\n",
        "### The dataset containing only movies has shape (5377,14) and for TV Shows has (2410,14).\n",
        "\n",
        "### Total number of features after vectorization is 40255.\n",
        "\n",
        "### Total features after dimentionality reduction is 309.\n",
        "\n",
        "### Kmeans clustering is giving good clusters therefore I would choose Kmeans with n_clusters = 6 because silhouette in this case is very good .054\n",
        "\n",
        "### Agglomerative clustering is also good but for high number of clusters it is not giving better cluster.\n",
        "\n",
        "### DBSCAN is giving a large size of cluster because my data is very noisy therefore in this case dbscan is not good.\n",
        "\n",
        "\n",
        "### EDA Conclusion :"
      ],
      "metadata": {
        "id": "Fjb1IsQkh3yE"
      }
    },
    {
      "cell_type": "markdown",
      "source": [
        "![2023-04-25.png](data:image/png;base64,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)"
      ],
      "metadata": {
        "id": "mPtbCm2wZ2MD"
      }
    },
    {
      "cell_type": "markdown",
      "source": [
        "### ***Hurrah! You have successfully completed your Machine Learning Capstone Project !!!***"
      ],
      "metadata": {
        "id": "gIfDvo9L0UH2"
      }
    }
  ]
}